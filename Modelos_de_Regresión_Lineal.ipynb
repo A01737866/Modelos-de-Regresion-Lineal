{
  "nbformat": 4,
  "nbformat_minor": 0,
  "metadata": {
    "colab": {
      "provenance": [],
      "include_colab_link": true
    },
    "kernelspec": {
      "name": "python3",
      "display_name": "Python 3"
    },
    "language_info": {
      "name": "python"
    }
  },
  "cells": [
    {
      "cell_type": "markdown",
      "metadata": {
        "id": "view-in-github",
        "colab_type": "text"
      },
      "source": [
        "<a href=\"https://colab.research.google.com/github/A01737866/Modelos-de-Regresion-Lineal/blob/main/Modelos_de_Regresi%C3%B3n_Lineal.ipynb\" target=\"_parent\"><img src=\"https://colab.research.google.com/assets/colab-badge.svg\" alt=\"Open In Colab\"/></a>"
      ]
    },
    {
      "cell_type": "code",
      "execution_count": null,
      "metadata": {
        "id": "9IfZouHqWo6d"
      },
      "outputs": [],
      "source": [
        "#Importamos librerías\n",
        "import pandas as pd\n",
        "import numpy as np\n",
        "import matplotlib.pyplot as plt\n",
        "import seaborn as sns"
      ]
    },
    {
      "cell_type": "code",
      "source": [
        "#Cargar archivo csv desde equipo\n",
        "from google.colab import files\n",
        "files.upload()"
      ],
      "metadata": {
        "id": "Cl-geVn4W6rk"
      },
      "execution_count": null,
      "outputs": []
    },
    {
      "cell_type": "code",
      "source": [
        "#Cargar desde un archivo .csv sin indice\n",
        "data = pd.read_csv('cuentas_credicel.csv', encoding='latin')\n",
        "data"
      ],
      "metadata": {
        "id": "lC22pKNoXagz"
      },
      "execution_count": null,
      "outputs": []
    },
    {
      "cell_type": "code",
      "source": [
        "#Identificar valores nulos por columna\n",
        "valores_nulos = data.isnull().sum()\n",
        "valores_nulos"
      ],
      "metadata": {
        "id": "qN-m_s08XQSd"
      },
      "execution_count": null,
      "outputs": []
    },
    {
      "cell_type": "code",
      "source": [
        "Filtro = data.iloc[:, [6,7,8,11,12,20,26,27]]\n",
        "Filtro"
      ],
      "metadata": {
        "id": "CBX9IvTNdA5C"
      },
      "execution_count": null,
      "outputs": []
    },
    {
      "cell_type": "code",
      "source": [
        "#Identificar valores nulos por columna\n",
        "valores_nulos = Filtro.isnull().sum()\n",
        "valores_nulos"
      ],
      "metadata": {
        "id": "yWa0O30Xepga"
      },
      "execution_count": null,
      "outputs": []
    },
    {
      "cell_type": "code",
      "source": [
        "Filtro.info()"
      ],
      "metadata": {
        "id": "Mh5EK2Vqo_2V"
      },
      "execution_count": null,
      "outputs": []
    },
    {
      "cell_type": "code",
      "source": [
        "#Conversión de tipo de dato de columna de tipo Object a int\n",
        "Filtro['plazo']= Filtro['plazo'].astype(int)"
      ],
      "metadata": {
        "id": "tELnSyQRos0X"
      },
      "execution_count": null,
      "outputs": []
    },
    {
      "cell_type": "code",
      "source": [
        "#Eliminar un signo de una columna\n",
        "Filtro['plazo']=Filtro['plazo'].str.replace('S', '')"
      ],
      "metadata": {
        "id": "N-Wjm8iio2en"
      },
      "execution_count": null,
      "outputs": []
    },
    {
      "cell_type": "code",
      "source": [
        "#Compruebo que la columna plazo ya se haya convertido a tipo numérico\n",
        "Filtro.info()"
      ],
      "metadata": {
        "id": "C0E_BznZo8Rt"
      },
      "execution_count": null,
      "outputs": []
    },
    {
      "cell_type": "code",
      "source": [
        "#Conversión de tipo de dato de columna de tipo Object a int\n",
        "Filtro['riesgo']= Filtro['riesgo'].astype(float)"
      ],
      "metadata": {
        "id": "vn47AP3QpKy2"
      },
      "execution_count": null,
      "outputs": []
    },
    {
      "cell_type": "code",
      "source": [
        "#Sustituyo valores nulos por el numero \"0\"\n",
        "#Tercer método de sustitución de valores nulos\n",
        "#Sustituir valores nulos por un valor numérico en  concreto\n",
        "Filtro[\"riesgo\"]= Filtro[\"riesgo\"].fillna(0)"
      ],
      "metadata": {
        "id": "26ofPOA5pSSJ"
      },
      "execution_count": null,
      "outputs": []
    },
    {
      "cell_type": "code",
      "source": [
        "#Analizar categorias de una columna\n",
        "riesgo_categorias = Filtro.groupby(['riesgo'])['riesgo'].count()\n",
        "riesgo_categorias"
      ],
      "metadata": {
        "id": "laa0GnHFpZaL"
      },
      "execution_count": null,
      "outputs": []
    },
    {
      "cell_type": "code",
      "source": [
        "#Sustituyo los strings Atraso, Cancelado y Fraude por la constante \"0\"\n",
        "Filtro['riesgo']= Filtro['riesgo'].str.replace('Atraso', '0')\n",
        "Filtro['riesgo']= Filtro['riesgo'].str.replace('Cancelado', '0')\n",
        "Filtro['riesgo']= Filtro['riesgo'].str.replace('Fraude', '0')"
      ],
      "metadata": {
        "id": "yWpXR93mpf7J"
      },
      "execution_count": null,
      "outputs": []
    },
    {
      "cell_type": "code",
      "source": [
        "#Conversión de tipo de dato de columna de tipo Object a int\n",
        "Filtro['riesgo']= Filtro['riesgo'].astype(float)"
      ],
      "metadata": {
        "id": "cQbQnXknppxU"
      },
      "execution_count": null,
      "outputs": []
    },
    {
      "cell_type": "code",
      "source": [
        "#Compruebo que la columna riesgo ya se halla convertido a tipo numérico\n",
        "Filtro.info()"
      ],
      "metadata": {
        "id": "j1sSvvtepy_L"
      },
      "execution_count": null,
      "outputs": []
    },
    {
      "cell_type": "code",
      "source": [
        "#Identificar valores nulos por columna\n",
        "valores_nulos = Filtro.isnull().sum()\n",
        "valores_nulos"
      ],
      "metadata": {
        "id": "c8NkRTsMp5br"
      },
      "execution_count": null,
      "outputs": []
    },
    {
      "cell_type": "code",
      "source": [
        "#Analizar categorias de una columna\n",
        "porc_enganche_categorias = Filtro.groupby(['porc_enganche'])['porc_enganche'].count()\n",
        "porc_enganche_categorias"
      ],
      "metadata": {
        "id": "Qm2AtK41qG2l"
      },
      "execution_count": null,
      "outputs": []
    },
    {
      "cell_type": "code",
      "source": [
        "#Sustituir valores nulos con promedio o media\n",
        "Filtro[\"porc_enganche\"] = Filtro[\"porc_enganche\"].fillna(round(data[\"porc_enganche\"].mean(),1))"
      ],
      "metadata": {
        "id": "BtEOI9_MrB8l"
      },
      "execution_count": null,
      "outputs": []
    },
    {
      "cell_type": "code",
      "source": [
        "#Identificar valores nulos por columna\n",
        "valores_nulos = Filtro.isnull().sum()\n",
        "valores_nulos"
      ],
      "metadata": {
        "id": "7LHNTfiFrOSr"
      },
      "execution_count": null,
      "outputs": []
    },
    {
      "cell_type": "markdown",
      "source": [
        "**En este caso todas las variables con las que se trabaja son cuantitativas, por lo mismo no se separa el dataframe, es decir, y = Cuantitativas = Filtro**\n"
      ],
      "metadata": {
        "id": "m6qp3mKvsZYY"
      }
    },
    {
      "cell_type": "code",
      "source": [
        "#Método aplicando Cuartiles. Encuentro cuartiles 0.25 y 0.75\n",
        "y= Filtro\n",
        "\n",
        "percentile25=y.quantile(0.25) #Q1\n",
        "percentile75=y.quantile(0.75) #Q3\n",
        "iqr= percentile75 - percentile25\n",
        "\n",
        "Limite_Superior_iqr= percentile75 + 1.5*iqr\n",
        "Limite_Inferior_iqr= percentile25 - 1.5*iqr\n",
        "print(\"Limite superior permitido\", Limite_Superior_iqr)\n",
        "print(\"Limite inferior permitido\", Limite_Inferior_iqr)"
      ],
      "metadata": {
        "id": "iaMwYMo5rRqU"
      },
      "execution_count": null,
      "outputs": []
    },
    {
      "cell_type": "code",
      "source": [
        "#Obtenemos datos limpios del Dataframe\n",
        "Datos_sin_Outliers_iqr= Filtro[(y<=Limite_Superior_iqr)&(y>=Limite_Inferior_iqr)]\n",
        "Datos_sin_Outliers_iqr"
      ],
      "metadata": {
        "id": "ycgNVFqwtIpa"
      },
      "execution_count": null,
      "outputs": []
    },
    {
      "cell_type": "code",
      "source": [
        "#Corroboramos valores nulos\n",
        "valores_nulos=Datos_sin_Outliers_iqr.isnull().sum()\n",
        "valores_nulos"
      ],
      "metadata": {
        "id": "Tg7X0cz_tNFi"
      },
      "execution_count": null,
      "outputs": []
    },
    {
      "cell_type": "code",
      "source": [
        "#Reemplazamos valores atípicos (nulos) del dataframe con \"mean\"\n",
        "#Realizamos una copia del dataframe\n",
        "data_clean_iqr=Datos_sin_Outliers_iqr.copy()\n",
        "data_clean_iqr=data_clean_iqr.fillna(round(Datos_sin_Outliers_iqr.mean(),1))\n",
        "data_clean_iqr"
      ],
      "metadata": {
        "id": "_lfyQRd6tXAu"
      },
      "execution_count": null,
      "outputs": []
    },
    {
      "cell_type": "code",
      "source": [
        "#Corroboramos valores nulos\n",
        "valores_nulos=data_clean_iqr.isnull().sum()\n",
        "valores_nulos"
      ],
      "metadata": {
        "id": "4cUBheMotcl_"
      },
      "execution_count": null,
      "outputs": []
    },
    {
      "cell_type": "code",
      "source": [
        "#Imprimimos el scatter plot entre la variable dependiente (Enganche) e independiente (Precio)\n",
        "#Para observar el comportamiento en su dispersión\n",
        "from turtle import color\n",
        "sns.scatterplot(x = \"precio\", y = \"enganche\", color = \"blue\", data = data_clean_iqr)"
      ],
      "metadata": {
        "id": "LqeO0VSQthdc"
      },
      "execution_count": null,
      "outputs": []
    },
    {
      "cell_type": "code",
      "source": [
        "#Declaramos las variables dependientes e independientes para la regresión lineal\n",
        "Vars_Indep = data_clean_iqr[[\"precio\"]]\n",
        "Var_Dep = data_clean_iqr[[\"enganche\"]]"
      ],
      "metadata": {
        "id": "yPmZJURPwDo0"
      },
      "execution_count": 161,
      "outputs": []
    },
    {
      "cell_type": "code",
      "source": [
        "#Se define model como la función de regresión lineal\n",
        "from sklearn.linear_model import LinearRegression\n",
        "model = LinearRegression()"
      ],
      "metadata": {
        "id": "tkm4II3BwLKC"
      },
      "execution_count": 162,
      "outputs": []
    },
    {
      "cell_type": "code",
      "source": [
        "#Ajustamos el modelo con las variables antes declaradas\n",
        "model.fit(X = Vars_Indep, y = Var_Dep)"
      ],
      "metadata": {
        "id": "bTKGt5liwONX"
      },
      "execution_count": null,
      "outputs": []
    },
    {
      "cell_type": "code",
      "source": [
        "#Verificamos los coeficientes obtenidos para el modelo ajustado\n",
        "model.__dict__"
      ],
      "metadata": {
        "id": "iBTnAk-dwRMQ"
      },
      "execution_count": null,
      "outputs": []
    },
    {
      "cell_type": "markdown",
      "source": [
        "**Modelo matemático: y = 0.16992509x + 198.13348551**"
      ],
      "metadata": {
        "id": "Zupc0sGNwiQu"
      }
    },
    {
      "cell_type": "markdown",
      "source": [
        "**Modelo matemático: Enganche = 0.16992509*Precio + 198.13348551**"
      ],
      "metadata": {
        "id": "1rBhUj2dzieV"
      }
    },
    {
      "cell_type": "code",
      "source": [
        "coef_deter = model.score(X = Vars_Indep, y = Var_Dep)\n",
        "coef_deter"
      ],
      "metadata": {
        "id": "nJFdsQ6kww4q"
      },
      "execution_count": null,
      "outputs": []
    },
    {
      "cell_type": "code",
      "source": [
        "correlation_matrix = data_clean_iqr.corr()\n",
        "print(\"Matriz de correlación:\")\n",
        "print(correlation_matrix)"
      ],
      "metadata": {
        "colab": {
          "base_uri": "https://localhost:8080/"
        },
        "id": "juu9iqqxxVud",
        "outputId": "4ab84b3d-30f8-4a4e-ef28-e0822d2716ad"
      },
      "execution_count": 167,
      "outputs": [
        {
          "output_type": "stream",
          "name": "stdout",
          "text": [
            "Matriz de correlación:\n",
            "                     plazo    precio  enganche  monto_financiado  costo_total  \\\n",
            "plazo             1.000000  0.216410  0.080335          0.238428     0.499865   \n",
            "precio            0.216410  1.000000  0.663595          0.908594     0.797407   \n",
            "enganche          0.080335  0.663595  1.000000          0.509798     0.458437   \n",
            "monto_financiado  0.238428  0.908594  0.509798          1.000000     0.853044   \n",
            "costo_total       0.499865  0.797407  0.458437          0.853044     1.000000   \n",
            "pagos_realizados  0.169521  0.007190 -0.092871          0.042108     0.093833   \n",
            "riesgo           -0.001184 -0.007871  0.076431         -0.029810    -0.008648   \n",
            "porc_enganche    -0.140027 -0.027719  0.215626         -0.112910    -0.113645   \n",
            "\n",
            "                  pagos_realizados    riesgo  porc_enganche  \n",
            "plazo                     0.169521 -0.001184      -0.140027  \n",
            "precio                    0.007190 -0.007871      -0.027719  \n",
            "enganche                 -0.092871  0.076431       0.215626  \n",
            "monto_financiado          0.042108 -0.029810      -0.112910  \n",
            "costo_total               0.093833 -0.008648      -0.113645  \n",
            "pagos_realizados          1.000000  0.047821      -0.182134  \n",
            "riesgo                    0.047821  1.000000       0.172867  \n",
            "porc_enganche            -0.182134  0.172867       1.000000  \n"
          ]
        }
      ]
    },
    {
      "cell_type": "code",
      "source": [
        "#Imprimimos el scatter plot entre la variable dependiente (Precio) e independiente (Monto Financiado)\n",
        "#Para observar el comportamiento en su dispersión\n",
        "from turtle import color\n",
        "sns.scatterplot(x = \"monto_financiado\", y = \"precio\", color = \"blue\", data = data_clean_iqr)"
      ],
      "metadata": {
        "id": "iVUSEp4f0JZ1"
      },
      "execution_count": null,
      "outputs": []
    },
    {
      "cell_type": "code",
      "source": [
        "#Declaramos las variables dependientes e independientes para la regresión lineal\n",
        "Vars_Indep = data_clean_iqr[[\"monto_financiado\"]]\n",
        "Var_Dep = data_clean_iqr[[\"precio\"]]"
      ],
      "metadata": {
        "id": "ahM4sIsf2wzC"
      },
      "execution_count": 176,
      "outputs": []
    },
    {
      "cell_type": "code",
      "source": [
        "#Se define model como la función de regresión lineal\n",
        "from sklearn.linear_model import LinearRegression\n",
        "model = LinearRegression()"
      ],
      "metadata": {
        "id": "5JN1-nkk292y"
      },
      "execution_count": 177,
      "outputs": []
    },
    {
      "cell_type": "code",
      "source": [
        "#Ajustamos el modelo con las variables antes declaradas\n",
        "model.fit(X = Vars_Indep, y = Var_Dep)"
      ],
      "metadata": {
        "id": "dNHwr0ci3Brb"
      },
      "execution_count": null,
      "outputs": []
    },
    {
      "cell_type": "code",
      "source": [
        "#Verificamos los coeficientes obtenidos para el modelo ajustado\n",
        "model.__dict__"
      ],
      "metadata": {
        "id": "0S5d6SSb3F3f"
      },
      "execution_count": null,
      "outputs": []
    },
    {
      "cell_type": "markdown",
      "source": [
        "**Modelo matemático: y = 1.18232773*x + 386.36664265**"
      ],
      "metadata": {
        "id": "uoIjSI7y3KLM"
      }
    },
    {
      "cell_type": "markdown",
      "source": [
        "**Modelo matemático: Precio = 1.18232773*Monto Financiado + 386.36664265**"
      ],
      "metadata": {
        "id": "J6nhTYxP3Spp"
      }
    },
    {
      "cell_type": "code",
      "source": [
        "coef_deter = model.score(X = Vars_Indep, y = Var_Dep)\n",
        "print(\"Coeficiente de determinación:\", coef_deter)"
      ],
      "metadata": {
        "id": "wNkpNWZX3gKO"
      },
      "execution_count": null,
      "outputs": []
    },
    {
      "cell_type": "code",
      "source": [
        "correlation_coefficient = data_clean_iqr[\"precio\"].corr(data_clean_iqr[\"monto_financiado\"])\n",
        "\n",
        "print(\"Coeficiente de correlación:\", correlation_coefficient)"
      ],
      "metadata": {
        "id": "Cvx43orJ3j_y"
      },
      "execution_count": null,
      "outputs": []
    },
    {
      "cell_type": "code",
      "source": [
        "#Imprimimos el scatter plot entre la variable dependiente (Costo Total) e independiente (Monto Financiado)\n",
        "#Para observar el comportamiento en su dispersión\n",
        "from turtle import color\n",
        "sns.scatterplot(x = \"monto_financiado\", y = \"costo_total\", color = \"blue\", data = data_clean_iqr)"
      ],
      "metadata": {
        "id": "TtLJLiyK4F87"
      },
      "execution_count": null,
      "outputs": []
    },
    {
      "cell_type": "code",
      "source": [
        "#Declaramos las variables dependientes e independientes para la regresión lineal\n",
        "Vars_Indep = data_clean_iqr[[\"monto_financiado\"]]\n",
        "Var_Dep = data_clean_iqr[[\"costo_total\"]]"
      ],
      "metadata": {
        "id": "nW_75ICL6pJB"
      },
      "execution_count": 182,
      "outputs": []
    },
    {
      "cell_type": "code",
      "source": [
        "#Se define model como la función de regresión lineal\n",
        "from sklearn.linear_model import LinearRegression\n",
        "model = LinearRegression()"
      ],
      "metadata": {
        "id": "59bVpMrJ6vT2"
      },
      "execution_count": 183,
      "outputs": []
    },
    {
      "cell_type": "code",
      "source": [
        "#Ajustamos el modelo con las variables antes declaradas\n",
        "model.fit(X = Vars_Indep, y = Var_Dep)"
      ],
      "metadata": {
        "id": "0F1Nlxtq60cg"
      },
      "execution_count": null,
      "outputs": []
    },
    {
      "cell_type": "code",
      "source": [
        "#Verificamos los coeficientes obtenidos para el modelo ajustado\n",
        "model.__dict__"
      ],
      "metadata": {
        "id": "wxgyRtHb61pn"
      },
      "execution_count": null,
      "outputs": []
    },
    {
      "cell_type": "markdown",
      "source": [
        "**Modelo matemático: y = 1.73195861*x + 249.57571688**"
      ],
      "metadata": {
        "id": "MwOCEqn57jY7"
      }
    },
    {
      "cell_type": "markdown",
      "source": [
        "**Modelo matemático: Costo Total = 1.73195861*Monto Financiado + 249.57571688**"
      ],
      "metadata": {
        "id": "BSeUUcI57rRW"
      }
    },
    {
      "cell_type": "code",
      "source": [
        "coef_deter = model.score(X = Vars_Indep, y = Var_Dep)\n",
        "print(\"Coeficiente de determinación:\", coef_deter)"
      ],
      "metadata": {
        "id": "ZAbEr7FT6628"
      },
      "execution_count": null,
      "outputs": []
    },
    {
      "cell_type": "code",
      "source": [
        "correlation_coefficient = data_clean_iqr[\"costo_total\"].corr(data_clean_iqr[\"monto_financiado\"])\n",
        "\n",
        "print(\"Coeficiente de correlación:\", correlation_coefficient)"
      ],
      "metadata": {
        "id": "wQ5RqIVr68XR"
      },
      "execution_count": null,
      "outputs": []
    },
    {
      "cell_type": "code",
      "source": [
        "#Imprimimos el scatter plot entre la variable dependiente (Pagos Realizados) e independiente (Porcentaje de Enganche)\n",
        "#Para observar el comportamiento en su dispersión\n",
        "from turtle import color\n",
        "sns.scatterplot(x = \"porc_enganche\", y = \"pagos_realizados\", color = \"blue\", data = data_clean_iqr)"
      ],
      "metadata": {
        "id": "FukEC6Ee7QAj"
      },
      "execution_count": null,
      "outputs": []
    },
    {
      "cell_type": "code",
      "source": [
        "#Declaramos las variables dependientes e independientes para la regresión lineal\n",
        "Vars_Indep = data_clean_iqr[[\"porc_enganche\"]]\n",
        "Var_Dep = data_clean_iqr[[\"pagos_realizados\"]]"
      ],
      "metadata": {
        "id": "zjq6Gx0i8PQc"
      },
      "execution_count": 190,
      "outputs": []
    },
    {
      "cell_type": "code",
      "source": [
        "#Se define model como la función de regresión lineal\n",
        "from sklearn.linear_model import LinearRegression\n",
        "model = LinearRegression()"
      ],
      "metadata": {
        "id": "2Aoya_E48a86"
      },
      "execution_count": 191,
      "outputs": []
    },
    {
      "cell_type": "code",
      "source": [
        "#Ajustamos el modelo con las variables antes declaradas\n",
        "model.fit(X = Vars_Indep, y = Var_Dep)"
      ],
      "metadata": {
        "id": "HkhEIo268dGJ"
      },
      "execution_count": null,
      "outputs": []
    },
    {
      "cell_type": "code",
      "source": [
        "#Verificamos los coeficientes obtenidos para el modelo ajustado\n",
        "model.__dict__"
      ],
      "metadata": {
        "id": "STYcPy7z8f5U"
      },
      "execution_count": null,
      "outputs": []
    },
    {
      "cell_type": "markdown",
      "source": [
        "**Modelo matemático: y = -0.74834627*x + 9.22034857**"
      ],
      "metadata": {
        "id": "p2y7J7LM8kmV"
      }
    },
    {
      "cell_type": "markdown",
      "source": [
        "**Modelo matemático: Pagos Realizados = -0.74834627*Porcentaje de Enganche + 9.22034857**"
      ],
      "metadata": {
        "id": "-MAcZyTT8sJI"
      }
    },
    {
      "cell_type": "code",
      "source": [
        "coef_deter = model.score(X = Vars_Indep, y = Var_Dep)\n",
        "print(\"Coeficiente de determinación:\", coef_deter)"
      ],
      "metadata": {
        "id": "r-R_9wTM8j-r"
      },
      "execution_count": null,
      "outputs": []
    },
    {
      "cell_type": "code",
      "source": [
        "correlation_coefficient = data_clean_iqr[\"pagos_realizados\"].corr(data_clean_iqr[\"porc_enganche\"])\n",
        "\n",
        "print(\"Coeficiente de correlación:\", correlation_coefficient)"
      ],
      "metadata": {
        "id": "LQyBQKBT88Dn"
      },
      "execution_count": null,
      "outputs": []
    },
    {
      "cell_type": "code",
      "source": [
        "#Imprimimos el scatter plot entre la variable dependiente (Riesgo) e independiente (Porcentaje de Enganche)\n",
        "#Para observar el comportamiento en su dispersión\n",
        "from turtle import color\n",
        "sns.scatterplot(x = \"porc_enganche\", y = \"riesgo\", color = \"blue\", data = data_clean_iqr)"
      ],
      "metadata": {
        "id": "YJe2X-DL9VWW"
      },
      "execution_count": null,
      "outputs": []
    },
    {
      "cell_type": "code",
      "source": [
        "#Declaramos las variables dependientes e independientes para la regresión lineal\n",
        "Vars_Indep = data_clean_iqr[[\"porc_enganche\"]]\n",
        "Var_Dep = data_clean_iqr[[\"riesgo\"]]"
      ],
      "metadata": {
        "id": "BU8u56gl9k8z"
      },
      "execution_count": 198,
      "outputs": []
    },
    {
      "cell_type": "code",
      "source": [
        "#Se define model como la función de regresión lineal\n",
        "from sklearn.linear_model import LinearRegression\n",
        "model = LinearRegression()"
      ],
      "metadata": {
        "id": "PSwm8Mk19qUS"
      },
      "execution_count": 199,
      "outputs": []
    },
    {
      "cell_type": "code",
      "source": [
        "#Ajustamos el modelo con las variables antes declaradas\n",
        "model.fit(X = Vars_Indep, y = Var_Dep)"
      ],
      "metadata": {
        "id": "SLqRsw-q9tQl"
      },
      "execution_count": null,
      "outputs": []
    },
    {
      "cell_type": "code",
      "source": [
        "#Verificamos los coeficientes obtenidos para el modelo ajustado\n",
        "model.__dict__"
      ],
      "metadata": {
        "colab": {
          "base_uri": "https://localhost:8080/"
        },
        "id": "G04LuMfq9vu7",
        "outputId": "9128ce5c-a8a2-40fe-c2b1-dd1c7b0e3f9f"
      },
      "execution_count": 201,
      "outputs": [
        {
          "output_type": "execute_result",
          "data": {
            "text/plain": [
              "{'fit_intercept': True,\n",
              " 'copy_X': True,\n",
              " 'n_jobs': None,\n",
              " 'positive': False,\n",
              " 'feature_names_in_': array(['porc_enganche'], dtype=object),\n",
              " 'n_features_in_': 1,\n",
              " 'coef_': array([[0.23500076]]),\n",
              " 'rank_': 1,\n",
              " 'singular_': array([315.995682]),\n",
              " 'intercept_': array([0.71231188])}"
            ]
          },
          "metadata": {},
          "execution_count": 201
        }
      ]
    },
    {
      "cell_type": "markdown",
      "source": [
        "**Modelo matemático: y = 0.23500076*x + 0.71231188**"
      ],
      "metadata": {
        "id": "gGHs3hSe9yoU"
      }
    },
    {
      "cell_type": "markdown",
      "source": [
        "**Modelo matemático: Riesgo = 0.23500076*Porcentaje de Enganche + 0.71231188**"
      ],
      "metadata": {
        "id": "-pWeSeYk98Z3"
      }
    },
    {
      "cell_type": "code",
      "source": [
        "coef_deter = model.score(X = Vars_Indep, y = Var_Dep)\n",
        "print(\"Coeficiente de determinación:\", coef_deter)"
      ],
      "metadata": {
        "id": "wmglcuQE9yJg"
      },
      "execution_count": null,
      "outputs": []
    },
    {
      "cell_type": "code",
      "source": [
        "correlation_coefficient = data_clean_iqr[\"riesgo\"].corr(data_clean_iqr[\"porc_enganche\"])\n",
        "\n",
        "print(\"Coeficiente de correlación:\", correlation_coefficient)"
      ],
      "metadata": {
        "id": "AdWuMqjz-KLM"
      },
      "execution_count": null,
      "outputs": []
    },
    {
      "cell_type": "code",
      "source": [
        "#Imprimimos el scatter plot entre la variable dependiente (Plazo) e independiente (Costo Total)\n",
        "#Para observar el comportamiento en su dispersión\n",
        "from turtle import color\n",
        "sns.scatterplot(x = \"costo_total\", y = \"plazo\", color = \"blue\", data = data_clean_iqr)"
      ],
      "metadata": {
        "id": "yp0iisFf-pOi"
      },
      "execution_count": null,
      "outputs": []
    },
    {
      "cell_type": "code",
      "source": [
        "#Declaramos las variables dependientes e independientes para la regresión lineal\n",
        "Vars_Indep = data_clean_iqr[[\"costo_total\"]]\n",
        "Var_Dep = data_clean_iqr[[\"plazo\"]]"
      ],
      "metadata": {
        "id": "xjo8ZUaL--im"
      },
      "execution_count": 211,
      "outputs": []
    },
    {
      "cell_type": "code",
      "source": [
        "#Se define model como la función de regresión lineal\n",
        "from sklearn.linear_model import LinearRegression\n",
        "model = LinearRegression()"
      ],
      "metadata": {
        "id": "GLUYrXJ1_Gst"
      },
      "execution_count": 212,
      "outputs": []
    },
    {
      "cell_type": "code",
      "source": [
        "#Ajustamos el modelo con las variables antes declaradas\n",
        "model.fit(X = Vars_Indep, y = Var_Dep)"
      ],
      "metadata": {
        "id": "qwUVz3ti_J8A"
      },
      "execution_count": null,
      "outputs": []
    },
    {
      "cell_type": "code",
      "source": [
        "#Verificamos los coeficientes obtenidos para el modelo ajustado\n",
        "model.__dict__"
      ],
      "metadata": {
        "id": "8_1SDDYd_MH2"
      },
      "execution_count": null,
      "outputs": []
    },
    {
      "cell_type": "markdown",
      "source": [
        "**Modelo matemático: y = 0.00257056*x + 11.90387408**"
      ],
      "metadata": {
        "id": "saOhWJS5_OwW"
      }
    },
    {
      "cell_type": "markdown",
      "source": [
        "**Modelo matemático: Plazo = 0.00257056*Costo Total + 11.90387408**"
      ],
      "metadata": {
        "id": "sArgV_tw_Wnf"
      }
    },
    {
      "cell_type": "code",
      "source": [
        "coef_deter = model.score(X = Vars_Indep, y = Var_Dep)\n",
        "print(\"Coeficiente de determinación:\", coef_deter)"
      ],
      "metadata": {
        "id": "NMD1tACO_fY8"
      },
      "execution_count": null,
      "outputs": []
    },
    {
      "cell_type": "code",
      "source": [
        "correlation_coefficient = data_clean_iqr[\"plazo\"].corr(data_clean_iqr[\"costo_total\"])\n",
        "\n",
        "print(\"Coeficiente de correlación:\", correlation_coefficient)"
      ],
      "metadata": {
        "id": "vpU7uLZl_mBq"
      },
      "execution_count": null,
      "outputs": []
    },
    {
      "cell_type": "code",
      "source": [
        "#Imprimimos el scatter plot entre la variable dependiente (Monto Financiado) e independiente (Precio)\n",
        "#Para observar el comportamiento en su dispersión\n",
        "from turtle import color\n",
        "sns.scatterplot(x = \"precio\", y = \"monto_financiado\", color = \"blue\", data = data_clean_iqr)"
      ],
      "metadata": {
        "id": "QjHshNjQAOnl"
      },
      "execution_count": null,
      "outputs": []
    },
    {
      "cell_type": "code",
      "source": [
        "#Declaramos las variables dependientes e independientes para la regresión lineal\n",
        "Vars_Indep = data_clean_iqr[[\"precio\"]]\n",
        "Var_Dep = data_clean_iqr[[\"monto_financiado\"]]"
      ],
      "metadata": {
        "id": "f2tb0TgIAeSt"
      },
      "execution_count": 219,
      "outputs": []
    },
    {
      "cell_type": "code",
      "source": [
        "#Se define model como la función de regresión lineal\n",
        "from sklearn.linear_model import LinearRegression\n",
        "model = LinearRegression()"
      ],
      "metadata": {
        "id": "sKlTeVjPAmHP"
      },
      "execution_count": 220,
      "outputs": []
    },
    {
      "cell_type": "code",
      "source": [
        "#Ajustamos el modelo con las variables antes declaradas\n",
        "model.fit(X = Vars_Indep, y = Var_Dep)"
      ],
      "metadata": {
        "id": "bBnT0f2pApm6"
      },
      "execution_count": null,
      "outputs": []
    },
    {
      "cell_type": "code",
      "source": [
        "#Verificamos los coeficientes obtenidos para el modelo ajustado\n",
        "model.__dict__"
      ],
      "metadata": {
        "id": "2WY-3nqPAsFx"
      },
      "execution_count": null,
      "outputs": []
    },
    {
      "cell_type": "markdown",
      "source": [
        "**Modelo matemático: y = 0.69823501*x + 253.90843778**"
      ],
      "metadata": {
        "id": "mkXj2rJ0Aum-"
      }
    },
    {
      "cell_type": "markdown",
      "source": [
        "**Modelo matemático: Monto Financiado = 0.69823501*Precio + 253.90843778**"
      ],
      "metadata": {
        "id": "yYYeUCYmA2z9"
      }
    },
    {
      "cell_type": "code",
      "source": [
        "coef_deter = model.score(X = Vars_Indep, y = Var_Dep)\n",
        "print(\"Coeficiente de determinación:\", coef_deter)"
      ],
      "metadata": {
        "id": "gXMSuEwvA9C8"
      },
      "execution_count": null,
      "outputs": []
    },
    {
      "cell_type": "code",
      "source": [
        "correlation_coefficient = data_clean_iqr[\"monto_financiado\"].corr(data_clean_iqr[\"precio\"])\n",
        "\n",
        "print(\"Coeficiente de correlación:\", correlation_coefficient)"
      ],
      "metadata": {
        "id": "RdXGJH7-BXcB"
      },
      "execution_count": null,
      "outputs": []
    },
    {
      "cell_type": "code",
      "source": [
        "#Imprimimos el scatter plot entre la variable dependiente (Porcentaje de Enganche) e independiente (Enganche)\n",
        "#Para observar el comportamiento en su dispersión\n",
        "from turtle import color\n",
        "sns.scatterplot(x = \"enganche\", y = \"porc_enganche\", color = \"blue\", data = data_clean_iqr)"
      ],
      "metadata": {
        "id": "bLGprN9aBs8R"
      },
      "execution_count": null,
      "outputs": []
    },
    {
      "cell_type": "code",
      "source": [
        "#Declaramos las variables dependientes e independientes para la regresión lineal\n",
        "Vars_Indep = data_clean_iqr[[\"enganche\"]]\n",
        "Var_Dep = data_clean_iqr[[\"porc_enganche\"]]"
      ],
      "metadata": {
        "id": "DKDfteAzB7YQ"
      },
      "execution_count": 226,
      "outputs": []
    },
    {
      "cell_type": "code",
      "source": [
        "#Se define model como la función de regresión lineal\n",
        "from sklearn.linear_model import LinearRegression\n",
        "model = LinearRegression()"
      ],
      "metadata": {
        "id": "EVUMNND4CCmc"
      },
      "execution_count": 227,
      "outputs": []
    },
    {
      "cell_type": "code",
      "source": [
        "#Ajustamos el modelo con las variables antes declaradas\n",
        "model.fit(X = Vars_Indep, y = Var_Dep)"
      ],
      "metadata": {
        "id": "kVHq3JJhCFG5"
      },
      "execution_count": null,
      "outputs": []
    },
    {
      "cell_type": "code",
      "source": [
        "#Verificamos los coeficientes obtenidos para el modelo ajustado\n",
        "model.__dict__"
      ],
      "metadata": {
        "colab": {
          "base_uri": "https://localhost:8080/"
        },
        "id": "miQ80l9gCHh2",
        "outputId": "259a3457-7366-4699-8fb2-03efd2ee7251"
      },
      "execution_count": 229,
      "outputs": [
        {
          "output_type": "execute_result",
          "data": {
            "text/plain": [
              "{'fit_intercept': True,\n",
              " 'copy_X': True,\n",
              " 'n_jobs': None,\n",
              " 'positive': False,\n",
              " 'feature_names_in_': array(['enganche'], dtype=object),\n",
              " 'n_features_in_': 1,\n",
              " 'coef_': array([[0.00141764]]),\n",
              " 'rank_': 1,\n",
              " 'singular_': array([48063.64212986]),\n",
              " 'intercept_': array([-1.59051725])}"
            ]
          },
          "metadata": {},
          "execution_count": 229
        }
      ]
    },
    {
      "cell_type": "markdown",
      "source": [
        "**Modelo matemático: y = 0.00141764*x - 1.59051725**"
      ],
      "metadata": {
        "id": "ol4YBg_1CKKV"
      }
    },
    {
      "cell_type": "markdown",
      "source": [
        "**Modelo matemático: Porcentaje de Enganche = 0.00141764*Enganche - 1.59051725**"
      ],
      "metadata": {
        "id": "dnaBfAyBCRSh"
      }
    },
    {
      "cell_type": "code",
      "source": [
        "coef_deter = model.score(X = Vars_Indep, y = Var_Dep)\n",
        "print(\"Coeficiente de determinación:\", coef_deter)"
      ],
      "metadata": {
        "colab": {
          "base_uri": "https://localhost:8080/"
        },
        "id": "mlKSa6N3CZQB",
        "outputId": "8a07f932-987d-4ce8-8fac-0f0fb34166c9"
      },
      "execution_count": 230,
      "outputs": [
        {
          "output_type": "stream",
          "name": "stdout",
          "text": [
            "Coeficiente de determinación: 0.04649454581175594\n"
          ]
        }
      ]
    },
    {
      "cell_type": "code",
      "source": [
        "correlation_coefficient = data_clean_iqr[\"porc_enganche\"].corr(data_clean_iqr[\"enganche\"])\n",
        "\n",
        "print(\"Coeficiente de correlación:\", correlation_coefficient)"
      ],
      "metadata": {
        "colab": {
          "base_uri": "https://localhost:8080/"
        },
        "id": "vQs2EfkFCcUU",
        "outputId": "eecb0c1c-5b6d-40a1-f27b-23484ab776ae"
      },
      "execution_count": 231,
      "outputs": [
        {
          "output_type": "stream",
          "name": "stdout",
          "text": [
            "Coeficiente de correlación: 0.215625939561445\n"
          ]
        }
      ]
    },
    {
      "cell_type": "code",
      "source": [
        "correlation_matrix = data_clean_iqr.corr()\n",
        "print(\"Matriz de correlación:\")\n",
        "print(correlation_matrix)"
      ],
      "metadata": {
        "colab": {
          "base_uri": "https://localhost:8080/"
        },
        "id": "qvVKkEUc-y01",
        "outputId": "e90eb8bc-7c6f-4e69-dc96-e506af50986b"
      },
      "execution_count": 217,
      "outputs": [
        {
          "output_type": "stream",
          "name": "stdout",
          "text": [
            "Matriz de correlación:\n",
            "                     plazo    precio  enganche  monto_financiado  costo_total  \\\n",
            "plazo             1.000000  0.216410  0.080335          0.238428     0.499865   \n",
            "precio            0.216410  1.000000  0.663595          0.908594     0.797407   \n",
            "enganche          0.080335  0.663595  1.000000          0.509798     0.458437   \n",
            "monto_financiado  0.238428  0.908594  0.509798          1.000000     0.853044   \n",
            "costo_total       0.499865  0.797407  0.458437          0.853044     1.000000   \n",
            "pagos_realizados  0.169521  0.007190 -0.092871          0.042108     0.093833   \n",
            "riesgo           -0.001184 -0.007871  0.076431         -0.029810    -0.008648   \n",
            "porc_enganche    -0.140027 -0.027719  0.215626         -0.112910    -0.113645   \n",
            "\n",
            "                  pagos_realizados    riesgo  porc_enganche  \n",
            "plazo                     0.169521 -0.001184      -0.140027  \n",
            "precio                    0.007190 -0.007871      -0.027719  \n",
            "enganche                 -0.092871  0.076431       0.215626  \n",
            "monto_financiado          0.042108 -0.029810      -0.112910  \n",
            "costo_total               0.093833 -0.008648      -0.113645  \n",
            "pagos_realizados          1.000000  0.047821      -0.182134  \n",
            "riesgo                    0.047821  1.000000       0.172867  \n",
            "porc_enganche            -0.182134  0.172867       1.000000  \n"
          ]
        }
      ]
    },
    {
      "cell_type": "code",
      "source": [
        "data.info()"
      ],
      "metadata": {
        "colab": {
          "base_uri": "https://localhost:8080/"
        },
        "id": "zcodX8nXDkzW",
        "outputId": "22e2c194-81e0-466c-fe89-95d581e3f161"
      },
      "execution_count": 232,
      "outputs": [
        {
          "output_type": "stream",
          "name": "stdout",
          "text": [
            "<class 'pandas.core.frame.DataFrame'>\n",
            "RangeIndex: 22735 entries, 0 to 22734\n",
            "Data columns (total 37 columns):\n",
            " #   Column              Non-Null Count  Dtype  \n",
            "---  ------              --------------  -----  \n",
            " 0   folio               22735 non-null  int64  \n",
            " 1   tag                 22735 non-null  object \n",
            " 2   folio_solicitud     22735 non-null  int64  \n",
            " 3   fecha               22735 non-null  object \n",
            " 4   marca               22735 non-null  object \n",
            " 5   modelo              22735 non-null  object \n",
            " 6   plazo               22735 non-null  object \n",
            " 7   precio              22735 non-null  float64\n",
            " 8   enganche            22735 non-null  float64\n",
            " 9   descuento           22735 non-null  float64\n",
            " 10  semana              22735 non-null  int64  \n",
            " 11  monto_financiado    22735 non-null  float64\n",
            " 12  costo_total         22735 non-null  int64  \n",
            " 13  monto_accesorios    22735 non-null  float64\n",
            " 14  agente_venta        22735 non-null  object \n",
            " 15  dis_venta           22735 non-null  object \n",
            " 16  status              22735 non-null  int64  \n",
            " 17  fraude              22735 non-null  int64  \n",
            " 18  empresa             22722 non-null  object \n",
            " 19  inversion           22735 non-null  int64  \n",
            " 20  pagos_realizados    22735 non-null  int64  \n",
            " 21  reautorizacion      22735 non-null  int64  \n",
            " 22  fecha_ultimo_pago   19379 non-null  object \n",
            " 23  fecha_pago_proximo  19379 non-null  object \n",
            " 24  status_cuenta       18538 non-null  object \n",
            " 25  puntos              19140 non-null  float64\n",
            " 26  riesgo              20262 non-null  object \n",
            " 27  porc_enganche       20262 non-null  float64\n",
            " 28  porc_tasa           22735 non-null  float64\n",
            " 29  score_buro          22735 non-null  float64\n",
            " 30  razones_buro        18230 non-null  object \n",
            " 31  semana_actual       18230 non-null  object \n",
            " 32  codigo_postal       22050 non-null  object \n",
            " 33  Unnamed: 33         859 non-null    object \n",
            " 34  Unnamed: 34         1203 non-null   object \n",
            " 35  Unnamed: 35         2473 non-null   float64\n",
            " 36  Unnamed: 36         1 non-null      float64\n",
            "dtypes: float64(11), int64(9), object(17)\n",
            "memory usage: 6.4+ MB\n"
          ]
        }
      ]
    },
    {
      "cell_type": "code",
      "source": [
        "#Filtro para obtener variables cuantitativas\n",
        "Cuantitativas = data.iloc[:, [0,2,7,8,9,10,11,12,13,16,17,19,20,21,25,27,28,29,35,36]]\n",
        "Cuantitativas"
      ],
      "metadata": {
        "id": "tDYoOkHFDqW0"
      },
      "execution_count": null,
      "outputs": []
    },
    {
      "cell_type": "code",
      "source": [
        "#Método aplicando desviación estándar. Encuentro los valores extremos\n",
        "y = Cuantitativas\n",
        "Limite_Superior = y.mean() + 3*y.std()\n",
        "Limite_Inferior = y.mean() - 3*y.std()\n",
        "print(\"Límite Superior Permitido\", Limite_Superior)\n",
        "print(\"Límite Inferior Permitido\", Limite_Inferior)"
      ],
      "metadata": {
        "id": "KiIV29fJELEj"
      },
      "execution_count": null,
      "outputs": []
    },
    {
      "cell_type": "code",
      "source": [
        "#Ajustar máximo de filas\n",
        "pd.options.display.max_rows = None"
      ],
      "metadata": {
        "id": "wElskgHkEVZO"
      },
      "execution_count": 235,
      "outputs": []
    },
    {
      "cell_type": "code",
      "source": [
        "#Obtenemos datos y los outliers se convierten en nulos en el DataFrame\n",
        "Datos_sin_Outliers = Cuantitativas[(y <= Limite_Superior) & (y >= Limite_Inferior)]\n",
        "Datos_sin_Outliers"
      ],
      "metadata": {
        "id": "8MvX9gH_EYzg"
      },
      "execution_count": null,
      "outputs": []
    },
    {
      "cell_type": "code",
      "source": [
        "#Corroboramos valores nulos\n",
        "valores_nulos = Datos_sin_Outliers.isnull().sum()\n",
        "valores_nulos"
      ],
      "metadata": {
        "colab": {
          "base_uri": "https://localhost:8080/"
        },
        "id": "OjReL8NVElyt",
        "outputId": "42b1b9f4-11dc-4b40-8a7c-199298fd352d"
      },
      "execution_count": 241,
      "outputs": [
        {
          "output_type": "execute_result",
          "data": {
            "text/plain": [
              "folio                   0\n",
              "folio_solicitud         0\n",
              "precio                110\n",
              "enganche              292\n",
              "descuento              17\n",
              "semana                362\n",
              "monto_financiado      182\n",
              "costo_total           290\n",
              "monto_accesorios      617\n",
              "status                154\n",
              "fraude               1701\n",
              "inversion               0\n",
              "pagos_realizados      184\n",
              "reautorizacion        774\n",
              "puntos               4408\n",
              "porc_enganche        2946\n",
              "porc_tasa             899\n",
              "score_buro            582\n",
              "Unnamed: 35         20404\n",
              "Unnamed: 36         22735\n",
              "dtype: int64"
            ]
          },
          "metadata": {},
          "execution_count": 241
        }
      ]
    },
    {
      "cell_type": "code",
      "source": [
        "#Reemplazamos valores atípicos (nulos) del dataframe con \"mean\"\n",
        "#Realizamos una copia del dataframe\n",
        "data_clean = Datos_sin_Outliers.copy()\n",
        "data_clean = data_clean.fillna(round(Datos_sin_Outliers.mean(),1))\n",
        "data_clean"
      ],
      "metadata": {
        "id": "zh4Xq8RxEp1z"
      },
      "execution_count": null,
      "outputs": []
    },
    {
      "cell_type": "code",
      "source": [
        "#Sustituir valores nulos por un valor numérico en concreto\n",
        "data_clean[\"Unnamed: 36\"] = data_clean[\"Unnamed: 36\"].fillna(0)\n",
        "data_clean"
      ],
      "metadata": {
        "id": "dvjlGDybFTtQ"
      },
      "execution_count": null,
      "outputs": []
    },
    {
      "cell_type": "code",
      "source": [
        "#Corroboramos valores nulos\n",
        "valores_nulos = data_clean.isnull().sum()\n",
        "valores_nulos"
      ],
      "metadata": {
        "id": "T1rec3knE6M1"
      },
      "execution_count": null,
      "outputs": []
    },
    {
      "cell_type": "code",
      "source": [
        "correlation_matrix = data_clean.corr()\n",
        "print(\"Matriz de correlación:\")\n",
        "print(correlation_matrix)"
      ],
      "metadata": {
        "colab": {
          "base_uri": "https://localhost:8080/"
        },
        "id": "kV6lB1T0Fy_1",
        "outputId": "4f2e0cec-c723-4ad2-c822-5b5ca4b3c848"
      },
      "execution_count": 246,
      "outputs": [
        {
          "output_type": "stream",
          "name": "stdout",
          "text": [
            "Matriz de correlación:\n",
            "                     folio  folio_solicitud    precio  enganche  descuento  \\\n",
            "folio             1.000000         0.971332  0.089539  0.125603   0.134939   \n",
            "folio_solicitud   0.971332         1.000000  0.090329  0.122568   0.131475   \n",
            "precio            0.089539         0.090329  1.000000  0.690542   0.018582   \n",
            "enganche          0.125603         0.122568  0.690542  1.000000  -0.025831   \n",
            "descuento         0.134939         0.131475  0.018582 -0.025831   1.000000   \n",
            "semana            0.097617         0.099369  0.611028  0.379107  -0.019941   \n",
            "monto_financiado  0.070554         0.072683  0.935647  0.515344   0.033970   \n",
            "costo_total       0.048342         0.049955  0.838116  0.448240   0.050457   \n",
            "monto_accesorios  0.105582         0.094277 -0.024338 -0.015719   0.025154   \n",
            "status           -0.401955        -0.391637 -0.097610 -0.074212  -0.068609   \n",
            "fraude                 NaN              NaN       NaN       NaN        NaN   \n",
            "inversion        -0.139744        -0.130940 -0.009418 -0.106344   0.243043   \n",
            "pagos_realizados -0.462108        -0.453260  0.021131 -0.088180   0.043343   \n",
            "reautorizacion         NaN              NaN       NaN       NaN        NaN   \n",
            "puntos           -0.081119        -0.090104  0.064438 -0.141468  -0.069842   \n",
            "porc_enganche     0.211102         0.200464 -0.016111  0.300946  -0.058156   \n",
            "porc_tasa        -0.060853        -0.063992 -0.037622  0.048199  -0.043040   \n",
            "score_buro        0.071170         0.070702 -0.006898  0.074643   0.006543   \n",
            "Unnamed: 35       0.066236         0.059518  0.021945  0.028372  -0.011050   \n",
            "Unnamed: 36            NaN              NaN       NaN       NaN        NaN   \n",
            "\n",
            "                    semana  monto_financiado  costo_total  monto_accesorios  \\\n",
            "folio             0.097617          0.070554     0.048342          0.105582   \n",
            "folio_solicitud   0.099369          0.072683     0.049955          0.094277   \n",
            "precio            0.611028          0.935647     0.838116         -0.024338   \n",
            "enganche          0.379107          0.515344     0.448240         -0.015719   \n",
            "descuento        -0.019941          0.033970     0.050457          0.025154   \n",
            "semana            1.000000          0.602361     0.351682         -0.014543   \n",
            "monto_financiado  0.602361          1.000000     0.880544         -0.014844   \n",
            "costo_total       0.351682          0.880544     1.000000          0.006631   \n",
            "monto_accesorios -0.014543         -0.014844     0.006631          1.000000   \n",
            "status            0.140207         -0.104128    -0.191657         -0.041099   \n",
            "fraude                 NaN               NaN          NaN               NaN   \n",
            "inversion         0.016371          0.031904     0.026717         -0.022554   \n",
            "pagos_realizados -0.116870          0.054574     0.120742         -0.055976   \n",
            "reautorizacion         NaN               NaN          NaN               NaN   \n",
            "puntos            0.049659          0.132811     0.124732         -0.017504   \n",
            "porc_enganche    -0.044740         -0.137262    -0.145793          0.018288   \n",
            "porc_tasa         0.031201         -0.076099    -0.097022         -0.008020   \n",
            "score_buro       -0.036492         -0.042552    -0.027655          0.010786   \n",
            "Unnamed: 35       0.035205          0.007737     0.006420          0.015647   \n",
            "Unnamed: 36            NaN               NaN          NaN               NaN   \n",
            "\n",
            "                    status  fraude  inversion  pagos_realizados  \\\n",
            "folio            -0.401955     NaN  -0.139744         -0.462108   \n",
            "folio_solicitud  -0.391637     NaN  -0.130940         -0.453260   \n",
            "precio           -0.097610     NaN  -0.009418          0.021131   \n",
            "enganche         -0.074212     NaN  -0.106344         -0.088180   \n",
            "descuento        -0.068609     NaN   0.243043          0.043343   \n",
            "semana            0.140207     NaN   0.016371         -0.116870   \n",
            "monto_financiado -0.104128     NaN   0.031904          0.054574   \n",
            "costo_total      -0.191657     NaN   0.026717          0.120742   \n",
            "monto_accesorios -0.041099     NaN  -0.022554         -0.055976   \n",
            "status            1.000000     NaN   0.091192          0.296808   \n",
            "fraude                 NaN     NaN        NaN               NaN   \n",
            "inversion         0.091192     NaN   1.000000          0.181974   \n",
            "pagos_realizados  0.296808     NaN   0.181974          1.000000   \n",
            "reautorizacion         NaN     NaN        NaN               NaN   \n",
            "puntos            0.060531     NaN   0.002047          0.170891   \n",
            "porc_enganche    -0.062049     NaN  -0.122535         -0.248578   \n",
            "porc_tasa         0.198465     NaN  -0.025612         -0.040362   \n",
            "score_buro       -0.054532     NaN  -0.047187          0.006332   \n",
            "Unnamed: 35      -0.003646     NaN  -0.021783         -0.057345   \n",
            "Unnamed: 36            NaN     NaN        NaN               NaN   \n",
            "\n",
            "                  reautorizacion        puntos  porc_enganche  porc_tasa  \\\n",
            "folio                        NaN -8.111945e-02       0.211102  -0.060853   \n",
            "folio_solicitud              NaN -9.010379e-02       0.200464  -0.063992   \n",
            "precio                       NaN  6.443812e-02      -0.016111  -0.037622   \n",
            "enganche                     NaN -1.414676e-01       0.300946   0.048199   \n",
            "descuento                    NaN -6.984159e-02      -0.058156  -0.043040   \n",
            "semana                       NaN  4.965871e-02      -0.044740   0.031201   \n",
            "monto_financiado             NaN  1.328109e-01      -0.137262  -0.076099   \n",
            "costo_total                  NaN  1.247316e-01      -0.145793  -0.097022   \n",
            "monto_accesorios             NaN -1.750436e-02       0.018288  -0.008020   \n",
            "status                       NaN  6.053061e-02      -0.062049   0.198465   \n",
            "fraude                       NaN           NaN            NaN        NaN   \n",
            "inversion                    NaN  2.047492e-03      -0.122535  -0.025612   \n",
            "pagos_realizados             NaN  1.708915e-01      -0.248578  -0.040362   \n",
            "reautorizacion               NaN           NaN            NaN        NaN   \n",
            "puntos                       NaN  1.000000e+00      -0.337065  -0.049926   \n",
            "porc_enganche                NaN -3.370648e-01       1.000000   0.096410   \n",
            "porc_tasa                    NaN -4.992607e-02       0.096410   1.000000   \n",
            "score_buro                   NaN  1.264653e-04       0.029587   0.235162   \n",
            "Unnamed: 35                  NaN -4.730329e-10       0.001939   0.332477   \n",
            "Unnamed: 36                  NaN           NaN            NaN        NaN   \n",
            "\n",
            "                  score_buro   Unnamed: 35  Unnamed: 36  \n",
            "folio               0.071170  6.623566e-02          NaN  \n",
            "folio_solicitud     0.070702  5.951766e-02          NaN  \n",
            "precio             -0.006898  2.194474e-02          NaN  \n",
            "enganche            0.074643  2.837171e-02          NaN  \n",
            "descuento           0.006543 -1.104978e-02          NaN  \n",
            "semana             -0.036492  3.520541e-02          NaN  \n",
            "monto_financiado   -0.042552  7.737241e-03          NaN  \n",
            "costo_total        -0.027655  6.420230e-03          NaN  \n",
            "monto_accesorios    0.010786  1.564711e-02          NaN  \n",
            "status             -0.054532 -3.646077e-03          NaN  \n",
            "fraude                   NaN           NaN          NaN  \n",
            "inversion          -0.047187 -2.178279e-02          NaN  \n",
            "pagos_realizados    0.006332 -5.734544e-02          NaN  \n",
            "reautorizacion           NaN           NaN          NaN  \n",
            "puntos              0.000126 -4.730329e-10          NaN  \n",
            "porc_enganche       0.029587  1.938617e-03          NaN  \n",
            "porc_tasa           0.235162  3.324775e-01          NaN  \n",
            "score_buro          1.000000  4.357417e-02          NaN  \n",
            "Unnamed: 35         0.043574  1.000000e+00          NaN  \n",
            "Unnamed: 36              NaN           NaN          NaN  \n"
          ]
        }
      ]
    },
    {
      "cell_type": "code",
      "source": [
        "#Método aplicando Cuartiles. Encuentro cuartiles 0.25 y 0.75\n",
        "y=Cuantitativas\n",
        "\n",
        "percentile25=y.quantile(0.25) #Q1\n",
        "percentile75=y.quantile(0.75) #Q3\n",
        "iqr= percentile75 - percentile25\n",
        "\n",
        "Limite_Superior_iqr= percentile75 + 1.5*iqr\n",
        "Limite_Inferior_iqr= percentile25 - 1.5*iqr\n",
        "print(\"Limite superior permitido\", Limite_Superior_iqr)\n",
        "print(\"Limite inferior permitido\", Limite_Inferior_iqr)"
      ],
      "metadata": {
        "id": "S-liXOhSGm-J"
      },
      "execution_count": null,
      "outputs": []
    },
    {
      "cell_type": "code",
      "source": [
        "#Obtenemos datos limpios del Dataframe\n",
        "Datos_sin_Outliers_iqr= Cuantitativas[(y<=Limite_Superior_iqr)&(y>=Limite_Inferior_iqr)]\n",
        "Datos_sin_Outliers_iqr"
      ],
      "metadata": {
        "id": "tz5rsL49GtUI"
      },
      "execution_count": null,
      "outputs": []
    },
    {
      "cell_type": "code",
      "source": [
        "#Corroboramos valores nulos\n",
        "valores_nulos=Datos_sin_Outliers_iqr.isnull().sum()\n",
        "valores_nulos"
      ],
      "metadata": {
        "id": "0Cgti7OAG5FB"
      },
      "execution_count": null,
      "outputs": []
    },
    {
      "cell_type": "code",
      "source": [
        "#Reemplazamos valores atípicos (nulos) del dataframe con \"mean\"\n",
        "#Realizamos una copia del dataframe\n",
        "data_clean_iqr=Datos_sin_Outliers_iqr.copy()\n",
        "data_clean_iqr=data_clean_iqr.fillna(round(Datos_sin_Outliers_iqr.mean(),1))\n",
        "data_clean_iqr"
      ],
      "metadata": {
        "id": "QsfUDWTSG6tb"
      },
      "execution_count": null,
      "outputs": []
    },
    {
      "cell_type": "code",
      "source": [
        "#Corroboramos valores nulos\n",
        "valores_nulos=data_clean_iqr.isnull().sum()\n",
        "valores_nulos"
      ],
      "metadata": {
        "id": "dnWQcfyNHGmX"
      },
      "execution_count": null,
      "outputs": []
    },
    {
      "cell_type": "code",
      "source": [
        "correlation_matrix = data_clean_iqr.corr()\n",
        "print(\"Matriz de correlación:\")\n",
        "print(correlation_matrix)"
      ],
      "metadata": {
        "colab": {
          "base_uri": "https://localhost:8080/"
        },
        "id": "Ma90f92QHJMg",
        "outputId": "99bbdbb4-fdf0-4a17-c7bf-140d1ffcf1f3"
      },
      "execution_count": 254,
      "outputs": [
        {
          "output_type": "stream",
          "name": "stdout",
          "text": [
            "Matriz de correlación:\n",
            "                     folio  folio_solicitud    precio  enganche  descuento  \\\n",
            "folio             1.000000         0.971332  0.099368  0.145340   0.130377   \n",
            "folio_solicitud   0.971332         1.000000  0.099848  0.140092   0.127074   \n",
            "precio            0.099368         0.099848  1.000000  0.663595   0.025226   \n",
            "enganche          0.145340         0.140092  0.663595  1.000000  -0.016966   \n",
            "descuento         0.130377         0.127074  0.025226 -0.016966   1.000000   \n",
            "semana            0.087642         0.089457  0.573740  0.344543  -0.013835   \n",
            "monto_financiado  0.090175         0.091934  0.908594  0.509798   0.041332   \n",
            "costo_total       0.083302         0.083734  0.797407  0.458437   0.063645   \n",
            "monto_accesorios       NaN              NaN       NaN       NaN        NaN   \n",
            "status                 NaN              NaN       NaN       NaN        NaN   \n",
            "fraude                 NaN              NaN       NaN       NaN        NaN   \n",
            "inversion              NaN              NaN       NaN       NaN        NaN   \n",
            "pagos_realizados -0.438821        -0.431346  0.007190 -0.092871   0.053902   \n",
            "reautorizacion         NaN              NaN       NaN       NaN        NaN   \n",
            "puntos           -0.088770        -0.078000 -0.000775 -0.202025  -0.007693   \n",
            "porc_enganche     0.234658         0.234155 -0.001028  0.249634  -0.049536   \n",
            "porc_tasa              NaN              NaN       NaN       NaN        NaN   \n",
            "score_buro             NaN              NaN       NaN       NaN        NaN   \n",
            "Unnamed: 35      -0.018426        -0.015690  0.052784  0.039639   0.017750   \n",
            "Unnamed: 36            NaN              NaN       NaN       NaN        NaN   \n",
            "\n",
            "                    semana  monto_financiado  costo_total  monto_accesorios  \\\n",
            "folio             0.087642          0.090175     0.083302               NaN   \n",
            "folio_solicitud   0.089457          0.091934     0.083734               NaN   \n",
            "precio            0.573740          0.908594     0.797407               NaN   \n",
            "enganche          0.344543          0.509798     0.458437               NaN   \n",
            "descuento        -0.013835          0.041332     0.063645               NaN   \n",
            "semana            1.000000          0.560739     0.322446               NaN   \n",
            "monto_financiado  0.560739          1.000000     0.853044               NaN   \n",
            "costo_total       0.322446          0.853044     1.000000               NaN   \n",
            "monto_accesorios       NaN               NaN          NaN               NaN   \n",
            "status                 NaN               NaN          NaN               NaN   \n",
            "fraude                 NaN               NaN          NaN               NaN   \n",
            "inversion              NaN               NaN          NaN               NaN   \n",
            "pagos_realizados -0.089827          0.042108     0.093833               NaN   \n",
            "reautorizacion         NaN               NaN          NaN               NaN   \n",
            "puntos            0.058572          0.081719     0.084703               NaN   \n",
            "porc_enganche    -0.028129         -0.090772    -0.077490               NaN   \n",
            "porc_tasa              NaN               NaN          NaN               NaN   \n",
            "score_buro             NaN               NaN          NaN               NaN   \n",
            "Unnamed: 35      -0.120332          0.053527     0.113077               NaN   \n",
            "Unnamed: 36            NaN               NaN          NaN               NaN   \n",
            "\n",
            "                  status  fraude  inversion  pagos_realizados  reautorizacion  \\\n",
            "folio                NaN     NaN        NaN         -0.438821             NaN   \n",
            "folio_solicitud      NaN     NaN        NaN         -0.431346             NaN   \n",
            "precio               NaN     NaN        NaN          0.007190             NaN   \n",
            "enganche             NaN     NaN        NaN         -0.092871             NaN   \n",
            "descuento            NaN     NaN        NaN          0.053902             NaN   \n",
            "semana               NaN     NaN        NaN         -0.089827             NaN   \n",
            "monto_financiado     NaN     NaN        NaN          0.042108             NaN   \n",
            "costo_total          NaN     NaN        NaN          0.093833             NaN   \n",
            "monto_accesorios     NaN     NaN        NaN               NaN             NaN   \n",
            "status               NaN     NaN        NaN               NaN             NaN   \n",
            "fraude               NaN     NaN        NaN               NaN             NaN   \n",
            "inversion            NaN     NaN        NaN               NaN             NaN   \n",
            "pagos_realizados     NaN     NaN        NaN          1.000000             NaN   \n",
            "reautorizacion       NaN     NaN        NaN               NaN             NaN   \n",
            "puntos               NaN     NaN        NaN          0.093703             NaN   \n",
            "porc_enganche        NaN     NaN        NaN         -0.216912             NaN   \n",
            "porc_tasa            NaN     NaN        NaN               NaN             NaN   \n",
            "score_buro           NaN     NaN        NaN               NaN             NaN   \n",
            "Unnamed: 35          NaN     NaN        NaN          0.155364             NaN   \n",
            "Unnamed: 36          NaN     NaN        NaN               NaN             NaN   \n",
            "\n",
            "                    puntos  porc_enganche  porc_tasa  score_buro  Unnamed: 35  \\\n",
            "folio            -0.088770       0.234658        NaN         NaN    -0.018426   \n",
            "folio_solicitud  -0.078000       0.234155        NaN         NaN    -0.015690   \n",
            "precio           -0.000775      -0.001028        NaN         NaN     0.052784   \n",
            "enganche         -0.202025       0.249634        NaN         NaN     0.039639   \n",
            "descuento        -0.007693      -0.049536        NaN         NaN     0.017750   \n",
            "semana            0.058572      -0.028129        NaN         NaN    -0.120332   \n",
            "monto_financiado  0.081719      -0.090772        NaN         NaN     0.053527   \n",
            "costo_total       0.084703      -0.077490        NaN         NaN     0.113077   \n",
            "monto_accesorios       NaN            NaN        NaN         NaN          NaN   \n",
            "status                 NaN            NaN        NaN         NaN          NaN   \n",
            "fraude                 NaN            NaN        NaN         NaN          NaN   \n",
            "inversion              NaN            NaN        NaN         NaN          NaN   \n",
            "pagos_realizados  0.093703      -0.216912        NaN         NaN     0.155364   \n",
            "reautorizacion         NaN            NaN        NaN         NaN          NaN   \n",
            "puntos            1.000000      -0.168324        NaN         NaN    -0.000016   \n",
            "porc_enganche    -0.168324       1.000000        NaN         NaN    -0.000017   \n",
            "porc_tasa              NaN            NaN        NaN         NaN          NaN   \n",
            "score_buro             NaN            NaN        NaN         NaN          NaN   \n",
            "Unnamed: 35      -0.000016      -0.000017        NaN         NaN     1.000000   \n",
            "Unnamed: 36            NaN            NaN        NaN         NaN          NaN   \n",
            "\n",
            "                  Unnamed: 36  \n",
            "folio                     NaN  \n",
            "folio_solicitud           NaN  \n",
            "precio                    NaN  \n",
            "enganche                  NaN  \n",
            "descuento                 NaN  \n",
            "semana                    NaN  \n",
            "monto_financiado          NaN  \n",
            "costo_total               NaN  \n",
            "monto_accesorios          NaN  \n",
            "status                    NaN  \n",
            "fraude                    NaN  \n",
            "inversion                 NaN  \n",
            "pagos_realizados          NaN  \n",
            "reautorizacion            NaN  \n",
            "puntos                    NaN  \n",
            "porc_enganche             NaN  \n",
            "porc_tasa                 NaN  \n",
            "score_buro                NaN  \n",
            "Unnamed: 35               NaN  \n",
            "Unnamed: 36               NaN  \n"
          ]
        }
      ]
    }
  ]
}